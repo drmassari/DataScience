{
 "cells": [
  {
   "cell_type": "markdown",
   "id": "d146bca7-06bf-4a54-a9dc-ec79e6807fae",
   "metadata": {},
   "source": [
    "# Data Science Tools and Ecosystem"
   ]
  },
  {
   "cell_type": "markdown",
   "id": "d2fe2358-8f7a-428e-9f7d-c778ce11bcd8",
   "metadata": {},
   "source": [
    "In this notebook, Data Science Tools and Ecosystem are summarized."
   ]
  },
  {
   "cell_type": "markdown",
   "id": "0948ea5f-129d-46cb-8e7b-e22b25d5989d",
   "metadata": {},
   "source": [
    "***Objectives:***\n",
    "* List popular languages for Data Science\n",
    "* List commonly used libraries used by Data Scientists \n",
    "* List popular development environments for Data Science "
   ]
  },
  {
   "cell_type": "markdown",
   "id": "debb18e1-9bf5-4954-8420-45dca768cab5",
   "metadata": {},
   "source": [
    "Some of the popular languages that Data Scientists use are:\n",
    "1. Python\n",
    "2. R\n",
    "3. SQL"
   ]
  },
  {
   "cell_type": "markdown",
   "id": "295fcc54-7bb8-4299-b65d-74c9feee227f",
   "metadata": {},
   "source": [
    "Some of the commonly used libraries used by Data Scientists include: \n",
    "1. Pandas\n",
    "2. NumPy\n",
    "3. Matplotlib"
   ]
  },
  {
   "cell_type": "markdown",
   "id": "24ee39af-1f6d-42ca-9f7d-91f9b7396f4e",
   "metadata": {},
   "source": [
    "|Data Science Tools | \n",
    "| ----------------- | \n",
    "| Jupyter Notebook | \n",
    "| RStudio | \n",
    "| VS Code |"
   ]
  },
  {
   "cell_type": "markdown",
   "id": "5bbdc747-0df0-4958-b7f5-b01b9aa9299e",
   "metadata": {},
   "source": [
    "### Below are a few examples of evaluating arithmetic expressions in Python:"
   ]
  },
  {
   "cell_type": "code",
   "execution_count": 19,
   "id": "3d7a5f7c-db97-4d48-ae7c-641890c5a4e4",
   "metadata": {},
   "outputs": [
    {
     "data": {
      "text/plain": [
       "17"
      ]
     },
     "execution_count": 19,
     "metadata": {},
     "output_type": "execute_result"
    }
   ],
   "source": [
    "# This is a simple arithmetic expression to mutiply then add integers.\n",
    "(3*4)+5"
   ]
  },
  {
   "cell_type": "code",
   "execution_count": 20,
   "id": "cc5f6c25-b896-4a1f-9969-c4cf8b57720f",
   "metadata": {},
   "outputs": [
    {
     "data": {
      "text/plain": [
       "3.3333333333333335"
      ]
     },
     "execution_count": 20,
     "metadata": {},
     "output_type": "execute_result"
    }
   ],
   "source": [
    "# This will convert 200 minutes to hours by diving by 60.\n",
    "200/60"
   ]
  },
  {
   "cell_type": "markdown",
   "id": "89d6631f-1aee-40bf-bc00-e20bd242145c",
   "metadata": {},
   "source": [
    "## Author\n",
    "Jose Massari"
   ]
  }
 ],
 "metadata": {
  "kernelspec": {
   "display_name": "Python 3 (ipykernel)",
   "language": "python",
   "name": "python3"
  },
  "language_info": {
   "codemirror_mode": {
    "name": "ipython",
    "version": 3
   },
   "file_extension": ".py",
   "mimetype": "text/x-python",
   "name": "python",
   "nbconvert_exporter": "python",
   "pygments_lexer": "ipython3",
   "version": "3.13.7"
  }
 },
 "nbformat": 4,
 "nbformat_minor": 5
}
